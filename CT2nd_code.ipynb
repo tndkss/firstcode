{
  "nbformat": 4,
  "nbformat_minor": 0,
  "metadata": {
    "colab": {
      "provenance": [],
      "authorship_tag": "ABX9TyMmoqUKoSO21k4AnClGJnTi",
      "include_colab_link": true
    },
    "kernelspec": {
      "name": "python3",
      "display_name": "Python 3"
    },
    "language_info": {
      "name": "python"
    }
  },
  "cells": [
    {
      "cell_type": "markdown",
      "metadata": {
        "id": "view-in-github",
        "colab_type": "text"
      },
      "source": [
        "<a href=\"https://colab.research.google.com/github/tndkss/firstcode/blob/main/CT2nd_code.ipynb\" target=\"_parent\"><img src=\"https://colab.research.google.com/assets/colab-badge.svg\" alt=\"Open In Colab\"/></a>"
      ]
    },
    {
      "cell_type": "code",
      "execution_count": 4,
      "metadata": {
        "colab": {
          "base_uri": "https://localhost:8080/"
        },
        "id": "KEwwt12hMVGk",
        "outputId": "dc1f7f4d-0a5c-4214-8fe3-606aabc97026"
      },
      "outputs": [
        {
          "output_type": "stream",
          "name": "stdout",
          "text": [
            "n1의 값을 입력하시오.:40\n",
            "n2의 값을 입력하시오.:50\n",
            "n3의 값을 입력하시오.:60\n",
            "50.0\n"
          ]
        }
      ],
      "source": [
        "n1=int(input(\"n1의 값을 입력하시오.:\"))\n",
        "n2=int(input(\"n2의 값을 입력하시오.:\"))\n",
        "n3=int(input(\"n3의 값을 입력하시오.:\"))\n",
        "total=n1+n2+n3\n",
        "average=total/3\n",
        "print(average)"
      ]
    }
  ]
}